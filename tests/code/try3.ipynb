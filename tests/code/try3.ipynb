{
    "cells": [
        {
            "cell_type": "markdown",
            "source": "## imports\n",
            "metadata": {}
        },
        {
            "cell_type": "code",
            "source": "import matplotlib.pyplot as plt\nimport numpy as np\n",
            "metadata": {},
            "outputs": []
        },
        {
            "cell_type": "markdown",
            "source": "## initialize\n",
            "metadata": {}
        },
        {
            "cell_type": "code",
            "source": "X = np.arange(0, 100)\n",
            "metadata": {},
            "outputs": []
        },
        {
            "cell_type": "code",
            "source": "Y = np.random.random(size=[100])\n",
            "metadata": {},
            "outputs": []
        },
        {
            "cell_type": "markdown",
            "source": "## plot\n",
            "metadata": {}
        },
        {
            "cell_type": "code",
            "source": "plt.plot(X, Y)\n",
            "metadata": {},
            "outputs": []
        }
    ],
    "metadata": [
        {
            "kernelspec": {
                "display_name": "Python 3.8.10 64-bit",
                "language": "python",
                "name": "python3"
            },
            "language_info": {
                "codemirror_mode": {
                    "name": "ipython",
                    "version": 3
                },
                "file_extension": ".py",
                "mimetype": "text/x-python",
                "name": "python",
                "nbconvert_exporter": "python",
                "pygments_lexer": "ipython3",
                "version": "3.8.10"
            },
            "orig_nbformat": 4,
            "vscode": {
                "interpreter": {
                    "hash": "916dbcbb3f70747c44a77c7bcd40155683ae19c65e1c03b4aa3499c5328201f1"
                }
            }
        }
    ],
    "nbformat": [
        4
    ],
    "nbformat_minor": 2
}